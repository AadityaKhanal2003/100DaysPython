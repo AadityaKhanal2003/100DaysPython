{
 "cells": [
  {
   "cell_type": "code",
   "execution_count": 13,
   "outputs": [
    {
     "name": "stdout",
     "output_type": "stream",
     "text": [
      "\n",
      " _      _            _    _            _    \n",
      "| |    | |          | |  (_)          | |   \n",
      "| |__  | |  __ _   ___| | ___  __ _  ___| | __\n",
      "| '_ \\ | | / _` | / __| |/ / |/ _` |/ __| |/ /\n",
      "| |_)  | |  (_| |  (__|   <| | (_| | (__|   < \n",
      "|_.__/ |_| \\__,_| \\___|_|\\_\\ |\\__,_|\\___|_|\\_|\n",
      "                       _/ |                \n",
      "                      |__/   \n"
     ]
    }
   ],
   "source": [
    "print(\"\"\"\n",
    " _      _            _    _            _    \n",
    "| |    | |          | |  (_)          | |   \n",
    "| |__  | |  __ _   ___| | ___  __ _  ___| | __\n",
    "| '_ \\ | | / _` | / __| |/ / |/ _` |/ __| |/ /\n",
    "| |_)  | |  (_| |  (__|   <| | (_| | (__|   < \n",
    "|_.__/ |_| \\__,_| \\___|_|\\_\\ |\\__,_|\\___|_|\\_|\n",
    "                       _/ |                \n",
    "                      |__/   \n",
    "\"\"\")"
   ],
   "metadata": {
    "collapsed": false,
    "ExecuteTime": {
     "end_time": "2023-11-14T15:47:59.527606200Z",
     "start_time": "2023-11-14T15:47:59.518254700Z"
    }
   },
   "id": "8fc5999c7c1ea7fb"
  },
  {
   "cell_type": "code",
   "execution_count": 14,
   "outputs": [],
   "source": [
    "# CLI based Blackjack game\n",
    "import random\n",
    "cards = [11, 2, 3, 4, 5, 6, 7, 8, 9, 10, 10, 10, 10]\n",
    "computer_cards = []\n",
    "user_cards = []\n",
    "def deal_cards(rd_cards):\n",
    "    random_card = random.choice(rd_cards)\n",
    "    return random_card\n",
    "for c in range(2):\n",
    "    dealer_cards = deal_cards(cards)\n",
    "    computer_cards.append(dealer_cards)\n",
    "for u in range(2):\n",
    "    client_cards = deal_cards(cards)\n",
    "    user_cards.append(client_cards)"
   ],
   "metadata": {
    "collapsed": false,
    "ExecuteTime": {
     "end_time": "2023-11-14T15:47:59.528746200Z",
     "start_time": "2023-11-14T15:47:59.522676Z"
    }
   },
   "id": "initial_id"
  },
  {
   "cell_type": "code",
   "execution_count": 15,
   "outputs": [],
   "source": [
    "def calculate_score():\n",
    "    total_cards_comp = sum(computer_cards)\n",
    "    total_cards_user = sum(user_cards)\n",
    "    if (user_cards[0] == 11 and user_cards[1] == 10) or (user_cards[0] == 10 and user_cards[1] == 11):\n",
    "        print(\"Blackjack !!! Client wins.\")\n",
    "        return 0\n",
    "    elif (computer_cards [0] == 11 and computer_cards[1] == 10) or (user_cards[0] == 10 and user_cards[1] == 11):\n",
    "        print(\"Dealer's Blackjack. Better luck next time.\")\n",
    "    else:\n",
    "        if total_cards_user < 21:\n",
    "            print(f' Dealer cards: {computer_cards[0]} is the first card.\\n Client cards: {user_cards}, total: {total_cards_user}')\n",
    "            draw_more = input(\"Do you want to draw one more card: (y/n)\").lower()\n",
    "            if draw_more == 'y':\n",
    "                new_card = deal_cards(cards)\n",
    "                user_cards.append(new_card)\n",
    "                total_cards_user =  sum(user_cards)\n",
    "                if total_cards_user == 21:\n",
    "                    print(f'BLACKJACK, Client won. Client cards: {user_cards} Score: {total_cards_user}')\n",
    "                    print(f'Dealer Cards: {computer_cards} and total is {total_cards_comp}')\n",
    "                elif total_cards_user > 21:\n",
    "                    print(f'Dealer Cards: {computer_cards} and total is {total_cards_comp}')\n",
    "                    print(f'Client Lost. Client cards: {user_cards} Score: {total_cards_user}')\n",
    "                else:\n",
    "                    print(f' Client cards: {user_cards} and total is {total_cards_user}')\n",
    "                    print(f' Dealer cards: {computer_cards} and the total is {total_cards_comp}.')\n",
    "    \n"
   ],
   "metadata": {
    "collapsed": false,
    "ExecuteTime": {
     "end_time": "2023-11-14T15:47:59.535292300Z",
     "start_time": "2023-11-14T15:47:59.528746200Z"
    }
   },
   "id": "20a069018e7c2f4f"
  },
  {
   "cell_type": "code",
   "execution_count": 16,
   "outputs": [
    {
     "name": "stdout",
     "output_type": "stream",
     "text": [
      " Dealer cards: 10 is the first card.\n",
      " User cards: [3, 10], total: 13\n",
      " Client cards: [3, 10, 7] and total is 20\n",
      " Dealer cards: [10, 3] and the total is 13.\n"
     ]
    }
   ],
   "source": [
    "calculate_score()"
   ],
   "metadata": {
    "collapsed": false,
    "ExecuteTime": {
     "end_time": "2023-11-14T15:48:01.264404800Z",
     "start_time": "2023-11-14T15:47:59.532987Z"
    }
   },
   "id": "86f28f3d5beb27dc"
  }
 ],
 "metadata": {
  "kernelspec": {
   "display_name": "Python 3",
   "language": "python",
   "name": "python3"
  },
  "language_info": {
   "codemirror_mode": {
    "name": "ipython",
    "version": 2
   },
   "file_extension": ".py",
   "mimetype": "text/x-python",
   "name": "python",
   "nbconvert_exporter": "python",
   "pygments_lexer": "ipython2",
   "version": "2.7.6"
  }
 },
 "nbformat": 4,
 "nbformat_minor": 5
}
