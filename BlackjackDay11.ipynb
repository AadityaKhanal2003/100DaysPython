{
 "cells": [
  {
   "cell_type": "code",
   "execution_count": 1,
   "outputs": [
    {
     "name": "stdout",
     "output_type": "stream",
     "text": [
      "\n",
      " _      _            _    _            _    \n",
      "| |    | |          | |  (_)          | |   \n",
      "| |__  | |  __ _   ___| | ___  __ _  ___| | __\n",
      "| '_ \\ | | / _` | / __| |/ / |/ _` |/ __| |/ /\n",
      "| |_)  | |  (_| |  (__|   <| | (_| | (__|   < \n",
      "|_.__/ |_| \\__,_| \\___|_|\\_\\ |\\__,_|\\___|_|\\_|\n",
      "                       _/ |                \n",
      "                      |__/   \n"
     ]
    }
   ],
   "source": [
    "print(\"\"\"\n",
    " _      _            _    _            _    \n",
    "| |    | |          | |  (_)          | |   \n",
    "| |__  | |  __ _   ___| | ___  __ _  ___| | __\n",
    "| '_ \\ | | / _` | / __| |/ / |/ _` |/ __| |/ /\n",
    "| |_)  | |  (_| |  (__|   <| | (_| | (__|   < \n",
    "|_.__/ |_| \\__,_| \\___|_|\\_\\ |\\__,_|\\___|_|\\_|\n",
    "                       _/ |                \n",
    "                      |__/   \n",
    "\"\"\")"
   ],
   "metadata": {
    "collapsed": false,
    "ExecuteTime": {
     "end_time": "2023-11-16T05:49:14.317192500Z",
     "start_time": "2023-11-16T05:49:14.307842400Z"
    }
   },
   "id": "8fc5999c7c1ea7fb"
  },
  {
   "cell_type": "code",
   "execution_count": 2,
   "outputs": [],
   "source": [
    "# CLI based Blackjack game\n",
    "import random\n",
    "cards = [11, 2, 3, 4, 5, 6, 7, 8, 9, 10, 10, 10, 10]\n",
    "computer_cards = []\n",
    "user_cards = []\n",
    "def deal_cards(rd_cards):\n",
    "    random_card = random.choice(rd_cards)\n",
    "    return random_card\n",
    "for c in range(2):\n",
    "    dealer_cards = deal_cards(cards)\n",
    "    computer_cards.append(dealer_cards)\n",
    "for u in range(2):\n",
    "    client_cards = deal_cards(cards)\n",
    "    user_cards.append(client_cards)"
   ],
   "metadata": {
    "collapsed": false,
    "ExecuteTime": {
     "end_time": "2023-11-16T05:49:14.317696100Z",
     "start_time": "2023-11-16T05:49:14.312829Z"
    }
   },
   "id": "initial_id"
  },
  {
   "cell_type": "code",
   "execution_count": 3,
   "outputs": [],
   "source": [
    "def calculate_score():\n",
    "    total_cards_comp = sum(computer_cards)\n",
    "    total_cards_user = sum(user_cards)\n",
    "    if (user_cards[0] == 11 and user_cards[1] == 10) or (user_cards[0] == 10 and user_cards[1] == 11):\n",
    "        print(f\"Blackjack !!! Client wins. Client cards: {user_cards}\\n Dealer cards: {computer_cards} \")\n",
    "\n",
    "        return 0\n",
    "    elif (computer_cards[0] == 11 and computer_cards[1] == 10) or (user_cards[0] == 10 and user_cards[1] == 11):\n",
    "        print(f\"Dealer's Blackjack. Better luck next time. Dealer cards: {computer_cards}\\n Client cards: {user_cards}\")\n",
    "    else:\n",
    "        game_over = True\n",
    "        while game_over:\n",
    "            if total_cards_user < 21:\n",
    "                print(\n",
    "                    f' Dealer cards: {computer_cards[0]} is the first card.\\n Client cards: {user_cards}, total: {total_cards_user}')\n",
    "                draw_more = input(\"Do you want to draw one more card: (y/n)\").lower()\n",
    "                if draw_more == 'y':\n",
    "                    new_card = deal_cards(cards)\n",
    "                    user_cards.append(new_card)\n",
    "                    total_cards_user = sum(user_cards)\n",
    "                    if total_cards_user == 21:\n",
    "                        print(f'BLACKJACK, Client cards: {user_cards} | Score: {total_cards_user} (WON)')\n",
    "                        print(f'Dealer Cards: {computer_cards} | Score: {total_cards_comp} (LOST)')\n",
    "                    elif total_cards_user > 21:\n",
    "                        print(f'Dealer Cards: {computer_cards} | Score: {total_cards_comp} (WON)')\n",
    "                        print(f'Client cards: {user_cards} | Score: {total_cards_user} (LOST)')\n",
    "                        game_over = False\n",
    "                    else:\n",
    "                       pass\n",
    "                elif draw_more == 'n':\n",
    "                    if total_cards_comp < 21:\n",
    "                        comp_new_card = deal_cards(cards)\n",
    "                        computer_cards.append(comp_new_card)\n",
    "                        total_cards_comp = sum(computer_cards)\n",
    "                        if total_cards_comp > 21:\n",
    "                            game_over = False\n",
    "                            print(f'Dealer Cards: {computer_cards} | Score: {total_cards_comp} (LOST)')\n",
    "                            print(f'Client cards: {user_cards} | Score: {total_cards_user} (WON)')\n",
    "                        elif total_cards_comp == 21:\n",
    "                            print(f'BLACKJACK, Dealer cards: {computer_cards} Score: {total_cards_comp} (WON)')\n",
    "                            print(f'Client Cards: {computer_cards} | Score: {total_cards_comp} (LOST)')\n",
    "                            game_over = False\n",
    "                        elif total_cards_comp > 21:\n",
    "                            print(f'Dealer Cards: {computer_cards} | Score: {total_cards_comp} (LOST)')\n",
    "                            print(f'Client cards: {user_cards} | Score: {total_cards_user} (WON)')\n",
    "                            game_over = False\n",
    "                        else:\n",
    "                            print(\"Technical issue occured! Press 'r' to restart the game or 'q' to quit\")\n",
    "                            restart = input(\"What is your choice?: \").lower()\n",
    "                            if restart == 'r':\n",
    "                                calculate_score()\n",
    "                            else:\n",
    "                                game_over = False\n",
    "                else:\n",
    "                    game_over = False\n",
    "    \n"
   ],
   "metadata": {
    "collapsed": false,
    "ExecuteTime": {
     "end_time": "2023-11-16T05:49:14.322099200Z",
     "start_time": "2023-11-16T05:49:14.317696100Z"
    }
   },
   "id": "20a069018e7c2f4f"
  },
  {
   "cell_type": "code",
   "execution_count": 4,
   "outputs": [
    {
     "name": "stdout",
     "output_type": "stream",
     "text": [
      " Dealer cards: 11 is the first card.\n",
      " Client cards: [2, 2], total: 4\n",
      " Dealer cards: 11 is the first card.\n",
      " Client cards: [2, 2, 10], total: 14\n",
      "BLACKJACK, Dealer cards: [11, 8, 2] Score: 21 (WON)\n",
      "Client Cards: [11, 8, 2] | Score: 21 (LOST)\n"
     ]
    }
   ],
   "source": [
    "calculate_score()"
   ],
   "metadata": {
    "collapsed": false,
    "ExecuteTime": {
     "end_time": "2023-11-16T05:49:20.360323100Z",
     "start_time": "2023-11-16T05:49:14.322099200Z"
    }
   },
   "id": "86f28f3d5beb27dc"
  }
 ],
 "metadata": {
  "kernelspec": {
   "display_name": "Python 3",
   "language": "python",
   "name": "python3"
  },
  "language_info": {
   "codemirror_mode": {
    "name": "ipython",
    "version": 2
   },
   "file_extension": ".py",
   "mimetype": "text/x-python",
   "name": "python",
   "nbconvert_exporter": "python",
   "pygments_lexer": "ipython2",
   "version": "2.7.6"
  }
 },
 "nbformat": 4,
 "nbformat_minor": 5
}
