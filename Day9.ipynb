{
 "cells": [
  {
   "cell_type": "code",
   "execution_count": 4,
   "outputs": [
    {
     "name": "stdout",
     "output_type": "stream",
     "text": [
      "{'Harry': 'Exceeds expectations', 'Ron': 'Acceptable', 'Hermione': 'Outstanding', 'Draco': 'Acceptable', 'Nevile': 'Fail'}\n"
     ]
    }
   ],
   "source": [
    "student_scores = {\n",
    "    \"Harry\": 81,\n",
    "    \"Ron\": 78,\n",
    "    \"Hermione\": 99,\n",
    "    \"Draco\": 74,\n",
    "    \"Nevile\": 70\n",
    "}\n",
    "student_grades = {\n",
    "      \n",
    "}\n",
    "for student in student_scores:\n",
    "    score = student_scores[student]\n",
    "    if score > 90:\n",
    "        student_grades[student] = 'Outstanding'\n",
    "    elif score > 80:\n",
    "        student_grades[student] = 'Exceeds expectations'\n",
    "    elif score > 70:\n",
    "        student_grades[student] = 'Acceptable'\n",
    "    else:\n",
    "        student_grades[student] = 'Fail'\n",
    "print(student_grades)"
   ],
   "metadata": {
    "collapsed": false,
    "ExecuteTime": {
     "end_time": "2023-11-01T19:59:26.453340300Z",
     "start_time": "2023-11-01T19:59:26.444882200Z"
    }
   },
   "id": "211a70f8201d6ea5"
  },
  {
   "cell_type": "code",
   "execution_count": 4,
   "outputs": [
    {
     "name": "stdout",
     "output_type": "stream",
     "text": [
      "I've been to Nepal 45 times.\n",
      "My favorite city is Bangkok.\n"
     ]
    }
   ],
   "source": [
    "country = input(\"Enter a country name: \")\n",
    "visits = int(input('How many times did you visit? '))\n",
    "list_of_cities = eval(input(\"Enter the name of cities \"))\n",
    "\n",
    "travel_log = [\n",
    "    {\n",
    "        'country': \"France\",\n",
    "        'visits': 12,\n",
    "        'cities': ['Paris','Dijon','Lille']\n",
    "    },\n",
    "    {\n",
    "        'country': \"Thailand\",\n",
    "        'visits': 7,\n",
    "        'cities': ['Bangkok','Phuket','Pattaya']\n",
    "    }\n",
    "]\n",
    "def add_details(c,v,l_c):\n",
    "    new_country = {}\n",
    "    new_country['country'] = c\n",
    "    new_country['visits'] = v\n",
    "    new_country['cities'] = l_c\n",
    "    travel_log.append(new_country)\n",
    "add_details(country, visits, list_of_cities)\n",
    "print(f\"I've been to {travel_log[2]['country']} {travel_log[2]['visits']} times.\")\n",
    "print(f\"My favorite city is {travel_log[1]['cities'][0]}.\")"
   ],
   "metadata": {
    "collapsed": false,
    "ExecuteTime": {
     "end_time": "2023-11-02T05:14:20.022714900Z",
     "start_time": "2023-11-02T05:13:41.102616600Z"
    }
   },
   "id": "49221b15a14083ce"
  },
  {
   "cell_type": "code",
   "execution_count": null,
   "outputs": [],
   "source": [],
   "metadata": {
    "collapsed": false
   },
   "id": "b3744dac00a815d7"
  },
  {
   "cell_type": "code",
   "execution_count": 12,
   "outputs": [
    {
     "name": "stdout",
     "output_type": "stream",
     "text": [
      "Welcome to silent bidding auction.\n",
      "Highest bid value is 200 by priyanka.\n"
     ]
    }
   ],
   "source": [
    "print(\"Welcome to silent bidding auction.\")\n",
    "bidder_name = input(\"Enter your name: \")\n",
    "bid_amt = int(input('Enter the bidding amount: $'))\n",
    "askagain_prompt = input(\"Are there any other bidder?: \")\n",
    "all_data = {\n",
    "\n",
    "}\n",
    "def find_highest_bidder():\n",
    "     highest_val = 0\n",
    "     winner = \"\"\n",
    "     for passw in all_data:\n",
    "            bid_value = all_data[passw]\n",
    "            if bid_value > highest_val:\n",
    "                highest_val = bid_value\n",
    "                winner = passw\n",
    "            else:\n",
    "                print('Something isn\\'t right')\n",
    "     print(f'Highest bid value is {highest_val} by {winner}.')\n",
    "\n",
    "\n",
    "while True:\n",
    "    all_data[bidder_name] = bid_amt\n",
    "    if askagain_prompt != 'yes':\n",
    "        find_highest_bidder()\n",
    "        break\n",
    "    else:\n",
    "        bidder_name = input(\"Enter your name: \")\n",
    "        bid_amt = int(input('Enter the bidding amount: $'))\n",
    "        askagain_prompt = input(\"Are there any other bidder?: \")"
   ],
   "metadata": {
    "collapsed": false,
    "ExecuteTime": {
     "end_time": "2023-11-02T07:12:36.337410700Z",
     "start_time": "2023-11-02T07:12:20.720617500Z"
    }
   },
   "id": "initial_id"
  }
 ],
 "metadata": {
  "kernelspec": {
   "display_name": "Python 3",
   "language": "python",
   "name": "python3"
  },
  "language_info": {
   "codemirror_mode": {
    "name": "ipython",
    "version": 2
   },
   "file_extension": ".py",
   "mimetype": "text/x-python",
   "name": "python",
   "nbconvert_exporter": "python",
   "pygments_lexer": "ipython2",
   "version": "2.7.6"
  }
 },
 "nbformat": 4,
 "nbformat_minor": 5
}
