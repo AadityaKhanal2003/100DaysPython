{
 "cells": [
  {
   "cell_type": "code",
   "execution_count": 13,
   "id": "initial_id",
   "metadata": {
    "collapsed": true,
    "ExecuteTime": {
     "end_time": "2023-10-29T07:40:48.683137Z",
     "start_time": "2023-10-29T07:40:48.680982900Z"
    }
   },
   "outputs": [
    {
     "name": "stdout",
     "output_type": "stream",
     "text": [
      "Hi I'm Kentucky and I live in Aaditya.\n"
     ]
    }
   ],
   "source": [
    "def greet_with(name,location):\n",
    "    print(f'Hi I\\'m {name} and I live in {location}.')\n",
    "greet_with(location = 'Aaditya',name = 'Kentucky')    "
   ]
  },
  {
   "cell_type": "code",
   "execution_count": 14,
   "outputs": [
    {
     "name": "stdout",
     "output_type": "stream",
     "text": [
      " You need 96 number of cans.\n"
     ]
    }
   ],
   "source": [
    "#How many cans of paint do you need to buy ?\n",
    "import math\n",
    "def cans_req(height,width,cover):\n",
    "    num_cans = (height * width) / cover\n",
    "    round_up_value = math.ceil(num_cans)\n",
    "    print(f' You need {round_up_value} number of cans.')\n",
    "t_height = int(input(\"height: \"))\n",
    "t_weight = int(input(\"Width: \"))\n",
    "coverage = 5\n",
    "cans_req(t_height,t_weight,coverage)"
   ],
   "metadata": {
    "collapsed": false,
    "ExecuteTime": {
     "end_time": "2023-10-29T07:40:53.842485300Z",
     "start_time": "2023-10-29T07:40:48.685361300Z"
    }
   },
   "id": "51d07f9134824af8"
  },
  {
   "cell_type": "code",
   "execution_count": 15,
   "outputs": [
    {
     "name": "stdout",
     "output_type": "stream",
     "text": [
      "Not a prime number.\n"
     ]
    }
   ],
   "source": [
    "#Prime number checker\n",
    "def prime_finder(n):\n",
    "    is_Prime = True\n",
    "    for i in range(2,n):\n",
    "        if i % 2 == 0:\n",
    "            is_Prime = False\n",
    "    if is_Prime:\n",
    "        print(\"Prime Number.\")\n",
    "    else:\n",
    "        print(\"Not a prime number.\")\n",
    "n = int(input(\"Enter a number: \"))\n",
    "prime_finder(n)"
   ],
   "metadata": {
    "collapsed": false,
    "ExecuteTime": {
     "end_time": "2023-10-29T07:41:02.080736800Z",
     "start_time": "2023-10-29T07:40:53.835378300Z"
    }
   },
   "id": "e252a6a7e0afb7f6"
  },
  {
   "cell_type": "code",
   "execution_count": 16,
   "outputs": [
    {
     "data": {
      "text/plain": "'aaditya'"
     },
     "execution_count": 16,
     "metadata": {},
     "output_type": "execute_result"
    }
   ],
   "source": [
    "#Caeser Cipher\n",
    "alphabet = ['a', 'b', 'c', 'd', 'e', 'f', 'g', 'h', 'i', 'j', 'k', 'l', 'm', 'n', 'o', 'p', 'q', 'r', 's', 't', 'u', 'v', 'w', 'x', 'y', 'z','a', 'b', 'c', 'd', 'e', 'f', 'g', 'h', 'i', 'j', 'k', 'l', 'm', 'n', 'o', 'p', 'q', 'r', 's', 't', 'u', 'v', 'w', 'x', 'y', 'z']\n",
    "prompt = input('Type: \\nencrypt\\ndecrypt')\n",
    "user_message = input(f\"Enter message:\\n\")\n",
    "shift_num = int(input(\"Enter how many times to shift:\\n\"))\n",
    "def cipher(start, shift, choice):\n",
    "    final_text = ''\n",
    "    for letter in user_message:\n",
    "        position = alphabet.index(letter)\n",
    "        if choice == 'decrypt':\n",
    "            n_position = position - shift_num\n",
    "            decipher_text = alphabet[n_position]\n",
    "            final_text += decipher_text\n",
    "        elif choice == 'encrypt':\n",
    "            new_position = position + shift_num\n",
    "            encrypted_text = alphabet[new_position]\n",
    "            final_text += encrypted_text\n",
    "        else:\n",
    "            print('Invalid choice, try again!')\n",
    "    return final_text\n",
    "cipher(user_message,shift_num,prompt)\n",
    "# ciphered text: 'iilqbgi'\n",
    "#decipered-text: 'aaditya'"
   ],
   "metadata": {
    "collapsed": false,
    "ExecuteTime": {
     "end_time": "2023-10-29T07:41:46.565507700Z",
     "start_time": "2023-10-29T07:41:02.029068500Z"
    }
   },
   "id": "9c68757ac2911ae7"
  }
 ],
 "metadata": {
  "kernelspec": {
   "display_name": "Python 3",
   "language": "python",
   "name": "python3"
  },
  "language_info": {
   "codemirror_mode": {
    "name": "ipython",
    "version": 2
   },
   "file_extension": ".py",
   "mimetype": "text/x-python",
   "name": "python",
   "nbconvert_exporter": "python",
   "pygments_lexer": "ipython2",
   "version": "2.7.6"
  }
 },
 "nbformat": 4,
 "nbformat_minor": 5
}
