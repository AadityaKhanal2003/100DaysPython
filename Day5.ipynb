{
 "cells": [
  {
   "cell_type": "code",
   "execution_count": null,
   "id": "initial_id",
   "metadata": {
    "collapsed": true
   },
   "outputs": [],
   "source": [
    "#Day5 (lOOPS/Password generator)"
   ]
  },
  {
   "cell_type": "code",
   "execution_count": 1,
   "outputs": [
    {
     "name": "stdout",
     "output_type": "stream",
     "text": [
      "apple\n",
      "mango\n",
      "orange\n"
     ]
    }
   ],
   "source": [
    "fruits = [\"apple\",\"mango\",\"orange\"]\n",
    "for fruit in fruits:\n",
    "    print(fruit)"
   ],
   "metadata": {
    "collapsed": false,
    "ExecuteTime": {
     "end_time": "2023-10-20T05:29:48.947423400Z",
     "start_time": "2023-10-20T05:29:48.936337500Z"
    }
   },
   "id": "1397cee422e70204"
  },
  {
   "cell_type": "code",
   "execution_count": 12,
   "outputs": [
    {
     "name": "stdout",
     "output_type": "stream",
     "text": [
      "Total sum is 664\n",
      "Average is 332\n"
     ]
    }
   ],
   "source": [
    "#find average height\n",
    "height_count = int(input((\"How many heights do you want to input?\\n\")))\n",
    "student_height = []\n",
    "\n",
    "for c in range(0,height_count):\n",
    "    student_heights = int(input())\n",
    "    student_height.append(student_heights)\n",
    "   \n",
    "heights_sum = 0\n",
    "for height in student_height:\n",
    "    heights_sum += height\n",
    "\n",
    "average = round(heights_sum / height_count)\n",
    "print(f\"Total sum is {heights_sum}\")\n",
    "print(f'Average is {average}')"
   ],
   "metadata": {
    "collapsed": false,
    "ExecuteTime": {
     "end_time": "2023-10-20T06:50:43.940210300Z",
     "start_time": "2023-10-20T06:50:35.675125100Z"
    }
   },
   "id": "53fbe91ea6b298f"
  },
  {
   "cell_type": "markdown",
   "source": [],
   "metadata": {
    "collapsed": false
   },
   "id": "550af49e2e414184"
  },
  {
   "cell_type": "code",
   "execution_count": 1,
   "outputs": [
    {
     "name": "stdout",
     "output_type": "stream",
     "text": [
      "Highest score is 89\n"
     ]
    }
   ],
   "source": [
    "#find high score\n",
    "scores_count = int(input((\"How many heights do you want to input?\\n\")))\n",
    "student_scores = []\n",
    "\n",
    "for j in range(0,scores_count):\n",
    "    student_score = int(input())\n",
    "    student_scores.append(student_score)\n",
    "hgh_score = 0\n",
    "for score in student_scores:\n",
    "    if score > hgh_score:\n",
    "        hgh_score = score\n",
    "print(f\"Highest score is {hgh_score}\")"
   ],
   "metadata": {
    "collapsed": false,
    "ExecuteTime": {
     "end_time": "2023-10-22T06:28:52.341432300Z",
     "start_time": "2023-10-22T06:28:41.063230500Z"
    }
   },
   "id": "5292762cbb019e3c"
  },
  {
   "cell_type": "code",
   "execution_count": 17,
   "outputs": [
    {
     "name": "stdout",
     "output_type": "stream",
     "text": [
      "2450\n",
      "2450\n"
     ]
    }
   ],
   "source": [
    "# finding sum of even numbers from 1 to targeted range. \n",
    "target = int(input(\"what is the range?\\n\"))\n",
    "even_sum = 0\n",
    "even_num_sum = 0\n",
    "for i in range(1,target + 1):\n",
    "    if i % 2 == 0:\n",
    "        even_sum += i\n",
    "print(even_sum)\n",
    "\n",
    "for j in range(2, target+1, 2):\n",
    "    even_num_sum += j\n",
    "print(even_num_sum)"
   ],
   "metadata": {
    "collapsed": false,
    "ExecuteTime": {
     "end_time": "2023-10-22T23:25:21.034506600Z",
     "start_time": "2023-10-22T23:25:18.547106900Z"
    }
   },
   "id": "f130f53628410c4f"
  },
  {
   "cell_type": "code",
   "execution_count": 20,
   "outputs": [
    {
     "name": "stdout",
     "output_type": "stream",
     "text": [
      "1\n",
      "2\n",
      "Fizz\n",
      "4\n",
      "Buzz\n",
      "Fizz\n",
      "7\n",
      "8\n",
      "Fizz\n",
      "Buzz\n",
      "11\n",
      "Fizz\n",
      "13\n",
      "14\n",
      "FizzBuzz\n",
      "16\n",
      "17\n",
      "Fizz\n",
      "19\n",
      "Buzz\n",
      "Fizz\n",
      "22\n",
      "23\n",
      "Fizz\n",
      "Buzz\n",
      "26\n",
      "Fizz\n",
      "28\n",
      "29\n",
      "FizzBuzz\n",
      "31\n",
      "32\n",
      "Fizz\n",
      "34\n",
      "Buzz\n",
      "Fizz\n",
      "37\n",
      "38\n",
      "Fizz\n",
      "Buzz\n",
      "41\n",
      "Fizz\n",
      "43\n",
      "44\n",
      "FizzBuzz\n",
      "46\n",
      "47\n",
      "Fizz\n",
      "49\n",
      "Buzz\n",
      "Fizz\n",
      "52\n",
      "53\n",
      "Fizz\n",
      "Buzz\n",
      "56\n",
      "Fizz\n",
      "58\n",
      "59\n",
      "FizzBuzz\n",
      "61\n",
      "62\n",
      "Fizz\n",
      "64\n",
      "Buzz\n",
      "Fizz\n",
      "67\n",
      "68\n",
      "Fizz\n",
      "Buzz\n",
      "71\n",
      "Fizz\n",
      "73\n",
      "74\n",
      "FizzBuzz\n",
      "76\n",
      "77\n",
      "Fizz\n",
      "79\n",
      "Buzz\n",
      "Fizz\n",
      "82\n",
      "83\n",
      "Fizz\n",
      "Buzz\n",
      "86\n",
      "Fizz\n",
      "88\n",
      "89\n",
      "FizzBuzz\n",
      "91\n",
      "92\n",
      "Fizz\n",
      "94\n",
      "Buzz\n",
      "Fizz\n",
      "97\n",
      "98\n",
      "Fizz\n",
      "Buzz\n"
     ]
    }
   ],
   "source": [
    "#FizzBuzz program\n",
    "for k in range(1,100+1):\n",
    "    if k % 3 == 0 and k % 5 == 0:\n",
    "        print(\"FizzBuzz\")\n",
    "    elif k % 3 == 0:\n",
    "        print(\"Fizz\")\n",
    "    elif k % 5 == 0:\n",
    "        print(\"Buzz\")\n",
    "    else:\n",
    "        print(k)\n"
   ],
   "metadata": {
    "collapsed": false,
    "ExecuteTime": {
     "end_time": "2023-10-22T23:34:24.518640200Z",
     "start_time": "2023-10-22T23:34:24.510142700Z"
    }
   },
   "id": "521205b2539584f4"
  },
  {
   "cell_type": "code",
   "execution_count": 37,
   "outputs": [
    {
     "name": "stdout",
     "output_type": "stream",
     "text": [
      "Welcome to the Password Generator !\n",
      "Rx554931(!+!\n",
      "Your password is Rx554931(!+! but 3!Rx45(9+!15 is suggested.\n"
     ]
    }
   ],
   "source": [
    "#Password Generator\n",
    "import random\n",
    "letters = ['a', 'b', 'c', 'd', 'e', 'f', 'g', 'h', 'i', 'j', 'k', 'l', 'm', 'n', 'o', 'p', 'q', 'r', 's', 't', 'u', 'v', 'w', 'x', 'y', 'z', 'A', 'B', 'C', 'D', 'E', 'F', 'G', 'H', 'I', 'J', 'K', 'L', 'M', 'N', 'O', 'P', 'Q', 'R', 'S', 'T', 'U', 'V', 'W', 'X', 'Y', 'Z']\n",
    "numbers = ['0', '1', '2', '3', '4', '5', '6', '7', '8', '9']\n",
    "symbols = ['!', '#', '$', '%', '&', '(', ')', '*', '+']\n",
    "print(\"Welcome to the Password Generator !\")\n",
    "letters_input = int(input(\"How many letters would you like to input? \"))\n",
    "symbols_input = int(input(\"How many symbols would you like to input? \"))\n",
    "numbers_input = int(input(\"How many numbers would you like to input? \"))\n",
    "\n",
    "password = \"\"\n",
    "encp_pass = \"\"\n",
    "encrypted_password = []\n",
    "for char in range(1,letters_input+1):\n",
    "    l_pass = random.choice(letters)\n",
    "    password += l_pass\n",
    "    encrypted_password.append(l_pass)\n",
    "for num in range(1,numbers_input+1):\n",
    "    n_pass = random.choice(numbers)\n",
    "    password += n_pass\n",
    "    encrypted_password.append(n_pass)\n",
    "\n",
    "for symbol in range(1,symbols_input+1):\n",
    "    s_pass = random.choice(symbols)\n",
    "    password += s_pass\n",
    "    encrypted_password.append(s_pass)\n",
    "print(password)\n",
    "random.shuffle(encrypted_password)\n",
    "for e in encrypted_password:\n",
    "    encp_pass += e\n",
    "\n",
    "print(f'Your password is {password} but {encp_pass} is highly recommended.')\n",
    "    "
   ],
   "metadata": {
    "collapsed": false,
    "ExecuteTime": {
     "end_time": "2023-10-23T00:30:57.777372100Z",
     "start_time": "2023-10-23T00:30:53.960477200Z"
    }
   },
   "id": "eb0c7158c76f7947"
  }
 ],
 "metadata": {
  "kernelspec": {
   "display_name": "Python 3",
   "language": "python",
   "name": "python3"
  },
  "language_info": {
   "codemirror_mode": {
    "name": "ipython",
    "version": 2
   },
   "file_extension": ".py",
   "mimetype": "text/x-python",
   "name": "python",
   "nbconvert_exporter": "python",
   "pygments_lexer": "ipython2",
   "version": "2.7.6"
  }
 },
 "nbformat": 4,
 "nbformat_minor": 5
}
