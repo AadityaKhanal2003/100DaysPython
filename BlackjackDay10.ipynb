{
 "cells": [
  {
   "cell_type": "code",
   "execution_count": 2,
   "outputs": [
    {
     "name": "stdout",
     "output_type": "stream",
     "text": [
      "\n",
      " _     _            _    _            _    \n",
      "| |   | |          | |  (_)          | |   \n",
      "| |__ | | __ _  ___| | ___  __ _  ___| | __\n",
      "| '_ \\| |/ _` |/ __| |/ / |/ _` |/ __| |/ /\n",
      "| |_) | | (_| | (__|   <| | (_| | (__|   < \n",
      "|_.__/|_|\\__,_|\\___|_|\\_\\ |\\__,_|\\___|_|\\_|\n",
      "                       _/ |                \n",
      "                      |__/   \n"
     ]
    }
   ],
   "source": [
    "print(\"\"\"\n",
    " _      _            _    _            _    \n",
    "| |    | |          | |  (_)          | |   \n",
    "| |__  | |  __ _   ___| | ___  __ _  ___| | __\n",
    "| '_ \\ | | / _` | / __| |/ / |/ _` |/ __| |/ /\n",
    "| |_)  | |  (_| |  (__|   <| | (_| | (__|   < \n",
    "|_.__/ |_| \\__,_| \\___|_|\\_\\ |\\__,_|\\___|_|\\_|\n",
    "                       _/ |                \n",
    "                      |__/   \n",
    "\"\"\")"
   ],
   "metadata": {
    "collapsed": false,
    "ExecuteTime": {
     "end_time": "2023-11-12T19:17:45.855814Z",
     "start_time": "2023-11-12T19:17:45.853178Z"
    }
   },
   "id": "8fc5999c7c1ea7fb"
  },
  {
   "cell_type": "code",
   "execution_count": 27,
   "outputs": [
    {
     "name": "stdout",
     "output_type": "stream",
     "text": [
      " Dealer cards: [11, 10] and total is 21\n",
      " Client cards: [5, 10] and total is 15\n"
     ]
    }
   ],
   "source": [
    "# CLI based Blackjack game\n",
    "import random\n",
    "import math\n",
    "\n",
    "computer_cards = []\n",
    "rd_cards = [11, 2, 3, 4, 5, 6, 7, 8, 9, 10, 10, 10, 10]\n",
    "for i in range(2):\n",
    "    random_card = random.choice(rd_cards)\n",
    "    computer_cards.append(random_card)\n",
    "total_cards_comp = sum(computer_cards)\n",
    "user_cards = []\n",
    "rd_cards_user = [11, 2, 3, 4, 5, 6, 7, 8, 9, 10, 10, 10, 10]\n",
    "for i in range(2):\n",
    "    random_card_user = random.choice(rd_cards_user)\n",
    "    user_cards.append(random_card_user)\n",
    "total_cards_user = sum(user_cards)\n",
    "print(f' Dealer cards: {computer_cards} and total is {total_cards_comp}')\n",
    "print(f' Client cards: {user_cards} and total is {total_cards_user}')\n",
    "\n",
    "game_over = True\n",
    "while game_over:\n",
    "    "
   ],
   "metadata": {
    "collapsed": false,
    "ExecuteTime": {
     "end_time": "2023-11-12T21:30:18.164139Z",
     "start_time": "2023-11-12T21:30:18.154979Z"
    }
   },
   "id": "initial_id"
  },
  {
   "cell_type": "code",
   "execution_count": null,
   "outputs": [],
   "source": [],
   "metadata": {
    "collapsed": false
   },
   "id": "20a069018e7c2f4f"
  }
 ],
 "metadata": {
  "kernelspec": {
   "display_name": "Python 3",
   "language": "python",
   "name": "python3"
  },
  "language_info": {
   "codemirror_mode": {
    "name": "ipython",
    "version": 2
   },
   "file_extension": ".py",
   "mimetype": "text/x-python",
   "name": "python",
   "nbconvert_exporter": "python",
   "pygments_lexer": "ipython2",
   "version": "2.7.6"
  }
 },
 "nbformat": 4,
 "nbformat_minor": 5
}
