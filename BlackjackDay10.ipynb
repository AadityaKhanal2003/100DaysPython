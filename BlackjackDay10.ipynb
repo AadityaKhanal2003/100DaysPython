{
 "cells": [
  {
   "cell_type": "code",
   "execution_count": 108,
   "outputs": [
    {
     "name": "stdout",
     "output_type": "stream",
     "text": [
      "\n",
      " _      _            _    _            _    \n",
      "| |    | |          | |  (_)          | |   \n",
      "| |__  | |  __ _   ___| | ___  __ _  ___| | __\n",
      "| '_ \\ | | / _` | / __| |/ / |/ _` |/ __| |/ /\n",
      "| |_)  | |  (_| |  (__|   <| | (_| | (__|   < \n",
      "|_.__/ |_| \\__,_| \\___|_|\\_\\ |\\__,_|\\___|_|\\_|\n",
      "                       _/ |                \n",
      "                      |__/   \n"
     ]
    }
   ],
   "source": [
    "print(\"\"\"\n",
    " _      _            _    _            _    \n",
    "| |    | |          | |  (_)          | |   \n",
    "| |__  | |  __ _   ___| | ___  __ _  ___| | __\n",
    "| '_ \\ | | / _` | / __| |/ / |/ _` |/ __| |/ /\n",
    "| |_)  | |  (_| |  (__|   <| | (_| | (__|   < \n",
    "|_.__/ |_| \\__,_| \\___|_|\\_\\ |\\__,_|\\___|_|\\_|\n",
    "                       _/ |                \n",
    "                      |__/   \n",
    "\"\"\")"
   ],
   "metadata": {
    "collapsed": false,
    "ExecuteTime": {
     "end_time": "2023-11-13T04:11:10.614752700Z",
     "start_time": "2023-11-13T04:11:10.601255Z"
    }
   },
   "id": "8fc5999c7c1ea7fb"
  },
  {
   "cell_type": "code",
   "execution_count": 109,
   "outputs": [],
   "source": [
    "import random\n",
    "def deal_cards(rd_cards):\n",
    "    random_card = random.choice(rd_cards)\n",
    "    return random_card"
   ],
   "metadata": {
    "collapsed": false,
    "ExecuteTime": {
     "end_time": "2023-11-13T04:11:10.614752700Z",
     "start_time": "2023-11-13T04:11:10.609203200Z"
    }
   },
   "id": "bc4aecf26433cc4a"
  },
  {
   "cell_type": "code",
   "execution_count": 110,
   "outputs": [],
   "source": [
    "# CLI based Blackjack game\n",
    "cards = [11, 2, 3, 4, 5, 6, 7, 8, 9, 10, 10, 10, 10]\n",
    "computer_cards = []\n",
    "user_cards = []\n",
    "for c in range(2):\n",
    "    dealer_cards = deal_cards(cards)\n",
    "    computer_cards.append(dealer_cards)\n",
    "for u in range(2):\n",
    "    client_cards = deal_cards(cards)\n",
    "    user_cards.append(client_cards)"
   ],
   "metadata": {
    "collapsed": false,
    "ExecuteTime": {
     "end_time": "2023-11-13T04:11:10.621506300Z",
     "start_time": "2023-11-13T04:11:10.612704800Z"
    }
   },
   "id": "initial_id"
  },
  {
   "cell_type": "code",
   "execution_count": 111,
   "outputs": [],
   "source": [
    "def calculate_score():\n",
    "    total_cards_comp = sum(computer_cards)\n",
    "    total_cards_user = sum(user_cards)\n",
    "    if user_cards[0] == 11 and user_cards[1] == 10:\n",
    "        print(\"Blackjack !!! Client wins.\")\n",
    "        return 0\n",
    "    elif computer_cards [0] == 11 and computer_cards[1] == 10:\n",
    "        print(\"Dealer's Blackjack. Better luck next time.\")\n",
    "    else:\n",
    "        if total_cards_user < 21:\n",
    "            print(f' Dealer cards: {computer_cards[0]} is the first card.')\n",
    "            draw_more = input(\"Do you want to draw one more card: (y/n)\").lower()\n",
    "            if draw_more == 'y':\n",
    "                new_card = deal_cards(cards)\n",
    "                user_cards.append(new_card)\n",
    "                total_cards_user =  sum(user_cards)\n",
    "                if total_cards_user == 21:\n",
    "                    print(f'BLACKJACK, Client won. Score: {total_cards_user}')\n",
    "                elif total_cards_user > 21:\n",
    "                    print(f'Client Lost. Score: {total_cards_user}')\n",
    "                else:\n",
    "                    print(f' Client cards: {user_cards} and total is {total_cards_user}')\n",
    "                    print(f' Dealer cards: {computer_cards} and the total is {total_cards_comp}.')\n",
    "    \n"
   ],
   "metadata": {
    "collapsed": false,
    "ExecuteTime": {
     "end_time": "2023-11-13T04:11:10.625144100Z",
     "start_time": "2023-11-13T04:11:10.616697600Z"
    }
   },
   "id": "20a069018e7c2f4f"
  },
  {
   "cell_type": "code",
   "execution_count": 112,
   "outputs": [
    {
     "name": "stdout",
     "output_type": "stream",
     "text": [
      " Dealer cards: 5 is the first card.\n",
      "BLACKJACK, Client won. Score: 21\n"
     ]
    }
   ],
   "source": [
    "calculate_score()"
   ],
   "metadata": {
    "collapsed": false,
    "ExecuteTime": {
     "end_time": "2023-11-13T04:11:18.475065300Z",
     "start_time": "2023-11-13T04:11:10.621506300Z"
    }
   },
   "id": "86f28f3d5beb27dc"
  }
 ],
 "metadata": {
  "kernelspec": {
   "display_name": "Python 3",
   "language": "python",
   "name": "python3"
  },
  "language_info": {
   "codemirror_mode": {
    "name": "ipython",
    "version": 2
   },
   "file_extension": ".py",
   "mimetype": "text/x-python",
   "name": "python",
   "nbconvert_exporter": "python",
   "pygments_lexer": "ipython2",
   "version": "2.7.6"
  }
 },
 "nbformat": 4,
 "nbformat_minor": 5
}
