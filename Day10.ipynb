{
 "cells": [
  {
   "cell_type": "code",
   "execution_count": 2,
   "id": "initial_id",
   "metadata": {
    "collapsed": true,
    "ExecuteTime": {
     "end_time": "2023-11-04T02:29:32.409389300Z",
     "start_time": "2023-11-04T02:29:28.239191300Z"
    }
   },
   "outputs": [
    {
     "data": {
      "text/plain": "'Aaditya Khanal'"
     },
     "execution_count": 2,
     "metadata": {},
     "output_type": "execute_result"
    }
   ],
   "source": [
    "f_name = input('First name: ')\n",
    "last_name = input('Last name: ')\n",
    "def format_name(f_name, last_name):\n",
    "    full_name = (f_name + \" \" + last_name).title()\n",
    "    return full_name\n",
    "format_name(f_name,last_name)"
   ]
  },
  {
   "cell_type": "code",
   "execution_count": 4,
   "outputs": [
    {
     "name": "stdout",
     "output_type": "stream",
     "text": [
      "2029\n",
      "30\n"
     ]
    }
   ],
   "source": [
    "def leap_year(year):\n",
    "    if year % 4 == 0:\n",
    "        if year % 100 == 0:\n",
    "            if year % 400 == 0:\n",
    "                return True\n",
    "            else:\n",
    "                return False\n",
    "        else:\n",
    "            return True\n",
    "    else:\n",
    "      return False\n",
    "def days_in_month(year,month):\n",
    "    month_days = [31,28,31,30,31,30,31,31,30,31,30,31]\n",
    "    if month == 2 and leap_year(year):\n",
    "        return 29\n",
    "    else:\n",
    "        return month_days[month - 1]\n",
    "    \n",
    "year  = int(input(\"Enter year: \"))\n",
    "month = int(input(\"Enter a month: \"))\n",
    "days = days_in_month(year,month)\n",
    "\n",
    "print(year)\n",
    "print(days)\n",
    "\n",
    "    \n"
   ],
   "metadata": {
    "collapsed": false,
    "ExecuteTime": {
     "end_time": "2023-11-04T05:31:05.830086800Z",
     "start_time": "2023-11-04T05:30:52.494985300Z"
    }
   },
   "id": "fdda11a11713859d"
  },
  {
   "cell_type": "code",
   "execution_count": 10,
   "outputs": [
    {
     "name": "stdout",
     "output_type": "stream",
     "text": [
      "+\n",
      "-\n",
      "*\n",
      "/\n",
      "8 * 9 = 72\n",
      "Successfully exited the program.\n"
     ]
    }
   ],
   "source": [
    "#Basic Calculator\n",
    "def add(n1,n2):\n",
    "    return n1 + n2\n",
    "def subtract(n1,n2):\n",
    "    return n1 - n2\n",
    "def multiply(n1,n2):\n",
    "    return n1 * n2\n",
    "def divide(n1,n2):\n",
    "    return n1 / n2\n",
    "calc_operations = {\n",
    "    '+': add,\n",
    "    '-': subtract,\n",
    "    '*': multiply,\n",
    "    '/': divide\n",
    "}\n",
    "\n",
    "def calculator():\n",
    "    num1 = int(input(\"Enter first number: \"))\n",
    "    for symbol in calc_operations:\n",
    "        print(symbol)\n",
    "    rerun_flag = True\n",
    "    while rerun_flag:\n",
    "        operation_query = input(\"Pick a symbol from above: \")\n",
    "        num2 = int(input(\"Enter another number: \"))\n",
    "        calculation_func = calc_operations[operation_query]\n",
    "        first_result = calculation_func(num1,num2)\n",
    "        print(f'{num1} {operation_query} {num2} = {first_result}')\n",
    "        continue_req = input(f\"Do you want to continue calculating with {first_result} Type: y (to continue) , r to restart .\").lower()\n",
    "        if continue_req == 'y':\n",
    "            num1 = first_result\n",
    "        elif continue_req == \"r\":\n",
    "            rerun_flag = False\n",
    "            calculator()\n",
    "        else:\n",
    "            rerun_flag = False\n",
    "            print(\"Successfully exited the program.\")\n",
    "calculator()"
   ],
   "metadata": {
    "collapsed": false,
    "ExecuteTime": {
     "end_time": "2023-11-07T06:57:17.453444100Z",
     "start_time": "2023-11-07T06:57:07.359146600Z"
    }
   },
   "id": "4156f54bb94a2671"
  },
  {
   "cell_type": "code",
   "execution_count": null,
   "outputs": [],
   "source": [],
   "metadata": {
    "collapsed": false
   },
   "id": "d8a5d7379fc399a0"
  }
 ],
 "metadata": {
  "kernelspec": {
   "display_name": "Python 3",
   "language": "python",
   "name": "python3"
  },
  "language_info": {
   "codemirror_mode": {
    "name": "ipython",
    "version": 2
   },
   "file_extension": ".py",
   "mimetype": "text/x-python",
   "name": "python",
   "nbconvert_exporter": "python",
   "pygments_lexer": "ipython2",
   "version": "2.7.6"
  }
 },
 "nbformat": 4,
 "nbformat_minor": 5
}
