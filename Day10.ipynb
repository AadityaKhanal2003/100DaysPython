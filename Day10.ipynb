{
 "cells": [
  {
   "cell_type": "code",
   "execution_count": 2,
   "id": "initial_id",
   "metadata": {
    "collapsed": true,
    "ExecuteTime": {
     "end_time": "2023-11-04T02:29:32.409389300Z",
     "start_time": "2023-11-04T02:29:28.239191300Z"
    }
   },
   "outputs": [
    {
     "data": {
      "text/plain": "'Aaditya Khanal'"
     },
     "execution_count": 2,
     "metadata": {},
     "output_type": "execute_result"
    }
   ],
   "source": [
    "f_name = input('First name: ')\n",
    "last_name = input('Last name: ')\n",
    "def format_name(f_name, last_name):\n",
    "    full_name = (f_name + \" \" + last_name).title()\n",
    "    return full_name\n",
    "format_name(f_name,last_name)"
   ]
  },
  {
   "cell_type": "code",
   "execution_count": 4,
   "outputs": [
    {
     "name": "stdout",
     "output_type": "stream",
     "text": [
      "2029\n",
      "30\n"
     ]
    }
   ],
   "source": [
    "def leap_year(year):\n",
    "    if year % 4 == 0:\n",
    "        if year % 100 == 0:\n",
    "            if year % 400 == 0:\n",
    "                return True\n",
    "            else:\n",
    "                return False\n",
    "        else:\n",
    "            return True\n",
    "    else:\n",
    "      return False\n",
    "def days_in_month(year,month):\n",
    "    month_days = [31,28,31,30,31,30,31,31,30,31,30,31]\n",
    "    if month == 2 and leap_year(year):\n",
    "        return 29\n",
    "    else:\n",
    "        return month_days[month - 1]\n",
    "    \n",
    "year  = int(input(\"Enter year: \"))\n",
    "month = int(input(\"Enter a month: \"))\n",
    "days = days_in_month(year,month)\n",
    "\n",
    "print(year)\n",
    "print(days)\n",
    "\n",
    "    \n"
   ],
   "metadata": {
    "collapsed": false,
    "ExecuteTime": {
     "end_time": "2023-11-04T05:31:05.830086800Z",
     "start_time": "2023-11-04T05:30:52.494985300Z"
    }
   },
   "id": "fdda11a11713859d"
  },
  {
   "cell_type": "code",
   "execution_count": 8,
   "outputs": [
    {
     "name": "stdout",
     "output_type": "stream",
     "text": [
      "+\n",
      "-\n",
      "*\n",
      "/\n",
      "12 * 35 = 420\n"
     ]
    }
   ],
   "source": [
    "#Basic Calculator\n",
    "def add(n1,n2):\n",
    "    return n1 + n2\n",
    "def subtract(n1,n2):\n",
    "    return n1 - n2\n",
    "def multiply(n1,n2):\n",
    "    return n1 * n2\n",
    "def divide(n1,n2):\n",
    "    return n1 / n2\n",
    "calc_operations = {\n",
    "    '+': add,\n",
    "    '-': subtract,\n",
    "    '*': multiply,\n",
    "    '/': divide\n",
    "}\n",
    "num1 = int(input(\"Enter number: \"))\n",
    "num2 = int(input(\"Enter another number: \"))\n",
    "\n",
    "for symbol in calc_operations:\n",
    "    print(symbol)\n",
    "operation_query = input(\"Pick a symbol from above: \")\n",
    "calculation_func = calc_operations[operation_query]\n",
    "print(f'{num1} {operation_query} {num2} = {calculation_func(num1,num2)}')"
   ],
   "metadata": {
    "collapsed": false,
    "ExecuteTime": {
     "end_time": "2023-11-04T06:08:02.704279500Z",
     "start_time": "2023-11-04T06:07:51.070954800Z"
    }
   },
   "id": "4156f54bb94a2671"
  }
 ],
 "metadata": {
  "kernelspec": {
   "display_name": "Python 3",
   "language": "python",
   "name": "python3"
  },
  "language_info": {
   "codemirror_mode": {
    "name": "ipython",
    "version": 2
   },
   "file_extension": ".py",
   "mimetype": "text/x-python",
   "name": "python",
   "nbconvert_exporter": "python",
   "pygments_lexer": "ipython2",
   "version": "2.7.6"
  }
 },
 "nbformat": 4,
 "nbformat_minor": 5
}
